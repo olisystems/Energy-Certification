{
 "cells": [
  {
   "cell_type": "code",
   "execution_count": 1,
   "metadata": {
    "collapsed": true
   },
   "outputs": [],
   "source": [
    "# coding: utf-8\n",
    "\n",
    "import json\n",
    "import web3\n",
    "import math\n",
    "import random\n",
    "import time\n",
    "\n",
    "from web3 import Web3, KeepAliveRPCProvider, IPCProvider, HTTPProvider"
   ]
  },
  {
   "cell_type": "markdown",
   "metadata": {},
   "source": [
    "Next step: Connect to Client, create 20 Accounts, define a coinbase (=default account)"
   ]
  },
  {
   "cell_type": "code",
   "execution_count": 2,
   "metadata": {
    "collapsed": true
   },
   "outputs": [],
   "source": [
    "web3 = Web3(HTTPProvider(\"http://127.0.0.1:8545\", request_kwargs={'timeout': 600}))"
   ]
  },
  {
   "cell_type": "code",
   "execution_count": null,
   "metadata": {
    "collapsed": true
   },
   "outputs": [],
   "source": [
    "### execute Only on a fresh Blockchain! Change the Passwords!\n",
    "for i in range(1,30):\n",
    "    web3.personal.newAccount('olirocks')"
   ]
  },
  {
   "cell_type": "code",
   "execution_count": 3,
   "metadata": {
    "collapsed": true
   },
   "outputs": [],
   "source": [
    "coinbase = web3.eth.coinbase\n",
    "web3.eth.defaultBlock = \"latest\"\n",
    "transaction = {'from': coinbase}"
   ]
  },
  {
   "cell_type": "markdown",
   "metadata": {},
   "source": [
    "Replace The Contract Adresses below to the actual addresses of the contracts on your particular chain! In order to get the contract addresses deploy either with TRUFFLE or REMIX!"
   ]
  },
  {
   "cell_type": "code",
   "execution_count": 4,
   "metadata": {
    "collapsed": true
   },
   "outputs": [],
   "source": [
    "# defining energy production contract\n",
    "Production_address = '0xba459c23acdbc98e010dad490e688381f19a31fb'\n",
    "Production_abi_str  = '[{\"anonymous\":false,\"inputs\":[{\"indexed\":false,\"name\":\"oliAddr\",\"type\":\"address\"},{\"indexed\":false,\"name\":\"txTime\",\"type\":\"uint256[]\"},{\"indexed\":false,\"name\":\"txValue\",\"type\":\"uint32[]\"},{\"indexed\":false,\"name\":\"blockNumber\",\"type\":\"uint256[]\"},{\"indexed\":false,\"name\":\"blockHash\",\"type\":\"bytes32[]\"},{\"indexed\":false,\"name\":\"txGasPrice\",\"type\":\"uint256[]\"}],\"name\":\"ProTransactionEvent\",\"type\":\"event\"},{\"anonymous\":false,\"inputs\":[{\"indexed\":false,\"name\":\"oliAddr\",\"type\":\"address\"},{\"indexed\":false,\"name\":\"eTime\",\"type\":\"uint256\"},{\"indexed\":false,\"name\":\"enerAmount\",\"type\":\"uint32\"}],\"name\":\"EnerProductionEvent\",\"type\":\"event\"},{\"anonymous\":false,\"inputs\":[{\"indexed\":false,\"name\":\"pvAddr\",\"type\":\"address\"},{\"indexed\":false,\"name\":\"owner\",\"type\":\"string\"},{\"indexed\":false,\"name\":\"deviceType\",\"type\":\"string\"},{\"indexed\":false,\"name\":\"peakPowerPos\",\"type\":\"uint32\"},{\"indexed\":false,\"name\":\"peakPowerNeg\",\"type\":\"uint32\"},{\"indexed\":false,\"name\":\"latitude\",\"type\":\"uint32\"},{\"indexed\":false,\"name\":\"longitude\",\"type\":\"uint32\"},{\"indexed\":false,\"name\":\"voltageLevel\",\"type\":\"uint32\"},{\"indexed\":false,\"name\":\"location\",\"type\":\"string\"},{\"indexed\":false,\"name\":\"installDate\",\"type\":\"string\"}],\"name\":\"ProducerRegs\",\"type\":\"event\"},{\"constant\":false,\"inputs\":[{\"name\":\"_enerValue\",\"type\":\"uint32\"}],\"name\":\"setEnerProduction\",\"outputs\":[],\"payable\":false,\"stateMutability\":\"nonpayable\",\"type\":\"function\"},{\"constant\":false,\"inputs\":[{\"name\":\"_owner\",\"type\":\"string\"},{\"name\":\"_deviceType\",\"type\":\"string\"},{\"name\":\"_peakPowerPos\",\"type\":\"uint32\"},{\"name\":\"_peakPowerNeg\",\"type\":\"uint32\"},{\"name\":\"_latitude\",\"type\":\"uint32\"},{\"name\":\"_longitude\",\"type\":\"uint32\"},{\"name\":\"_voltageLevel\",\"type\":\"uint32\"},{\"name\":\"_location\",\"type\":\"string\"},{\"name\":\"_installDate\",\"type\":\"string\"}],\"name\":\"setProducer\",\"outputs\":[],\"payable\":false,\"stateMutability\":\"nonpayable\",\"type\":\"function\"},{\"inputs\":[],\"payable\":false,\"stateMutability\":\"nonpayable\",\"type\":\"constructor\"},{\"constant\":true,\"inputs\":[],\"name\":\"countProducers\",\"outputs\":[{\"name\":\"\",\"type\":\"uint256\"}],\"payable\":false,\"stateMutability\":\"view\",\"type\":\"function\"},{\"constant\":true,\"inputs\":[],\"name\":\"getEnerProduction\",\"outputs\":[{\"name\":\"\",\"type\":\"address\"},{\"name\":\"\",\"type\":\"uint256\"},{\"name\":\"\",\"type\":\"uint32\"}],\"payable\":false,\"stateMutability\":\"view\",\"type\":\"function\"},{\"constant\":true,\"inputs\":[{\"name\":\"_proAccntAddr\",\"type\":\"address\"}],\"name\":\"getProAccntDetails\",\"outputs\":[{\"name\":\"\",\"type\":\"string\"},{\"name\":\"\",\"type\":\"string\"},{\"name\":\"\",\"type\":\"uint32\"},{\"name\":\"\",\"type\":\"string\"},{\"name\":\"\",\"type\":\"uint32\"},{\"name\":\"\",\"type\":\"uint32\"},{\"name\":\"\",\"type\":\"string\"}],\"payable\":false,\"stateMutability\":\"view\",\"type\":\"function\"},{\"constant\":true,\"inputs\":[],\"name\":\"getProAccntsList\",\"outputs\":[{\"name\":\"\",\"type\":\"address[]\"}],\"payable\":false,\"stateMutability\":\"view\",\"type\":\"function\"},{\"constant\":true,\"inputs\":[{\"name\":\"_proAccntAddr\",\"type\":\"address\"}],\"name\":\"getProBalance\",\"outputs\":[{\"name\":\"\",\"type\":\"uint256\"}],\"payable\":false,\"stateMutability\":\"view\",\"type\":\"function\"},{\"constant\":true,\"inputs\":[],\"name\":\"getProducer\",\"outputs\":[{\"name\":\"\",\"type\":\"address\"},{\"name\":\"\",\"type\":\"string\"},{\"name\":\"\",\"type\":\"string\"},{\"name\":\"\",\"type\":\"uint32\"},{\"name\":\"\",\"type\":\"uint32\"},{\"name\":\"\",\"type\":\"uint32\"},{\"name\":\"\",\"type\":\"uint32\"},{\"name\":\"\",\"type\":\"uint32\"},{\"name\":\"\",\"type\":\"string\"},{\"name\":\"\",\"type\":\"string\"}],\"payable\":false,\"stateMutability\":\"view\",\"type\":\"function\"},{\"constant\":true,\"inputs\":[{\"name\":\"_proAccntAddr\",\"type\":\"address\"}],\"name\":\"getProEnerProduction\",\"outputs\":[{\"name\":\"\",\"type\":\"address\"},{\"name\":\"\",\"type\":\"uint256[]\"},{\"name\":\"\",\"type\":\"uint32[]\"},{\"name\":\"\",\"type\":\"uint256[]\"},{\"name\":\"\",\"type\":\"bytes32[]\"},{\"name\":\"\",\"type\":\"uint256[]\"}],\"payable\":false,\"stateMutability\":\"view\",\"type\":\"function\"},{\"constant\":true,\"inputs\":[{\"name\":\"\",\"type\":\"uint256\"}],\"name\":\"proAccntList\",\"outputs\":[{\"name\":\"\",\"type\":\"address\"}],\"payable\":false,\"stateMutability\":\"view\",\"type\":\"function\"},{\"constant\":true,\"inputs\":[{\"name\":\"producerAddr\",\"type\":\"address\"}],\"name\":\"proAccntsArr\",\"outputs\":[{\"name\":\"\",\"type\":\"bool\"}],\"payable\":false,\"stateMutability\":\"view\",\"type\":\"function\"}]'\n",
    "Production_abi      = json.loads(Production_abi_str)\n",
    "Production_contract = web3.eth.contract(abi=Production_abi,address=Production_address)"
   ]
  },
  {
   "cell_type": "code",
   "execution_count": 5,
   "metadata": {
    "collapsed": true
   },
   "outputs": [],
   "source": [
    "# defining energy consumption contract\n",
    "Consumption_address = '0xc3f1c7e4745008687d469da4247c729a35fda2c8'\n",
    "Consumption_abi_str  = '[{\"anonymous\":false,\"inputs\":[{\"indexed\":false,\"name\":\"oliAddr\",\"type\":\"address\"},{\"indexed\":false,\"name\":\"txTime\",\"type\":\"uint256[]\"},{\"indexed\":false,\"name\":\"txValue\",\"type\":\"uint32[]\"},{\"indexed\":false,\"name\":\"blockNumber\",\"type\":\"uint256[]\"},{\"indexed\":false,\"name\":\"blockHash\",\"type\":\"bytes32[]\"},{\"indexed\":false,\"name\":\"txGasPrice\",\"type\":\"uint256[]\"}],\"name\":\"ConsTransactionEvent\",\"type\":\"event\"},{\"constant\":false,\"inputs\":[{\"name\":\"_owner\",\"type\":\"string\"},{\"name\":\"_deviceType\",\"type\":\"string\"},{\"name\":\"_peakPowerPos\",\"type\":\"uint32\"},{\"name\":\"_peakPowerNeg\",\"type\":\"uint32\"},{\"name\":\"_latitude\",\"type\":\"uint32\"},{\"name\":\"_longitude\",\"type\":\"uint32\"},{\"name\":\"_voltageLevel\",\"type\":\"uint32\"},{\"name\":\"_location\",\"type\":\"string\"},{\"name\":\"_installDate\",\"type\":\"string\"}],\"name\":\"setConsumer\",\"outputs\":[],\"payable\":false,\"stateMutability\":\"nonpayable\",\"type\":\"function\"},{\"anonymous\":false,\"inputs\":[{\"indexed\":false,\"name\":\"oliAddr\",\"type\":\"address\"},{\"indexed\":false,\"name\":\"eTime\",\"type\":\"uint256\"},{\"indexed\":false,\"name\":\"enerAmount\",\"type\":\"uint32\"}],\"name\":\"EnerConsumptionEvent\",\"type\":\"event\"},{\"anonymous\":false,\"inputs\":[{\"indexed\":false,\"name\":\"pvAddr\",\"type\":\"address\"},{\"indexed\":false,\"name\":\"owner\",\"type\":\"string\"},{\"indexed\":false,\"name\":\"deviceType\",\"type\":\"string\"},{\"indexed\":false,\"name\":\"peakPowerPos\",\"type\":\"uint32\"},{\"indexed\":false,\"name\":\"peakPowerNeg\",\"type\":\"uint32\"},{\"indexed\":false,\"name\":\"latitude\",\"type\":\"uint32\"},{\"indexed\":false,\"name\":\"longitude\",\"type\":\"uint32\"},{\"indexed\":false,\"name\":\"voltageLevel\",\"type\":\"uint32\"},{\"indexed\":false,\"name\":\"location\",\"type\":\"string\"},{\"indexed\":false,\"name\":\"installDate\",\"type\":\"string\"}],\"name\":\"ConsumerRegs\",\"type\":\"event\"},{\"constant\":false,\"inputs\":[{\"name\":\"_enerValue\",\"type\":\"uint32\"}],\"name\":\"setEnerConsumption\",\"outputs\":[],\"payable\":false,\"stateMutability\":\"nonpayable\",\"type\":\"function\"},{\"inputs\":[],\"payable\":false,\"stateMutability\":\"nonpayable\",\"type\":\"constructor\"},{\"constant\":true,\"inputs\":[{\"name\":\"\",\"type\":\"uint256\"}],\"name\":\"consAccntList\",\"outputs\":[{\"name\":\"\",\"type\":\"address\"}],\"payable\":false,\"stateMutability\":\"view\",\"type\":\"function\"},{\"constant\":true,\"inputs\":[{\"name\":\"consumerAddr\",\"type\":\"address\"}],\"name\":\"consAccntsArr\",\"outputs\":[{\"name\":\"\",\"type\":\"bool\"}],\"payable\":false,\"stateMutability\":\"view\",\"type\":\"function\"},{\"constant\":true,\"inputs\":[],\"name\":\"countConsumers\",\"outputs\":[{\"name\":\"\",\"type\":\"uint256\"}],\"payable\":false,\"stateMutability\":\"view\",\"type\":\"function\"},{\"constant\":true,\"inputs\":[{\"name\":\"_consAccntAddr\",\"type\":\"address\"}],\"name\":\"getConsAccntDetails\",\"outputs\":[{\"name\":\"\",\"type\":\"string\"},{\"name\":\"\",\"type\":\"string\"},{\"name\":\"\",\"type\":\"uint32\"},{\"name\":\"\",\"type\":\"string\"},{\"name\":\"\",\"type\":\"uint32\"},{\"name\":\"\",\"type\":\"uint32\"},{\"name\":\"\",\"type\":\"string\"}],\"payable\":false,\"stateMutability\":\"view\",\"type\":\"function\"},{\"constant\":true,\"inputs\":[],\"name\":\"getConsAccntsList\",\"outputs\":[{\"name\":\"\",\"type\":\"address[]\"}],\"payable\":false,\"stateMutability\":\"view\",\"type\":\"function\"},{\"constant\":true,\"inputs\":[{\"name\":\"_consAccntAddr\",\"type\":\"address\"}],\"name\":\"getConsBalance\",\"outputs\":[{\"name\":\"\",\"type\":\"uint256\"}],\"payable\":false,\"stateMutability\":\"view\",\"type\":\"function\"},{\"constant\":true,\"inputs\":[{\"name\":\"_consAccntAddr\",\"type\":\"address\"}],\"name\":\"getConsEnerConsumption\",\"outputs\":[{\"name\":\"\",\"type\":\"address\"},{\"name\":\"\",\"type\":\"uint256[]\"},{\"name\":\"\",\"type\":\"uint32[]\"},{\"name\":\"\",\"type\":\"uint256[]\"},{\"name\":\"\",\"type\":\"bytes32[]\"},{\"name\":\"\",\"type\":\"uint256[]\"}],\"payable\":false,\"stateMutability\":\"view\",\"type\":\"function\"},{\"constant\":true,\"inputs\":[],\"name\":\"getConsumer\",\"outputs\":[{\"name\":\"\",\"type\":\"address\"},{\"name\":\"\",\"type\":\"string\"},{\"name\":\"\",\"type\":\"string\"},{\"name\":\"\",\"type\":\"uint32\"},{\"name\":\"\",\"type\":\"uint32\"},{\"name\":\"\",\"type\":\"uint32\"},{\"name\":\"\",\"type\":\"uint32\"},{\"name\":\"\",\"type\":\"uint32\"},{\"name\":\"\",\"type\":\"string\"},{\"name\":\"\",\"type\":\"string\"}],\"payable\":false,\"stateMutability\":\"view\",\"type\":\"function\"},{\"constant\":true,\"inputs\":[],\"name\":\"getEnerConsumption\",\"outputs\":[{\"name\":\"\",\"type\":\"address\"},{\"name\":\"\",\"type\":\"uint256\"},{\"name\":\"\",\"type\":\"uint32\"}],\"payable\":false,\"stateMutability\":\"view\",\"type\":\"function\"}]'\n",
    "Consumption_abi      = json.loads(Consumption_abi_str)\n",
    "Consumption_contract = web3.eth.contract(abi=Consumption_abi,address=Consumption_address)"
   ]
  },
  {
   "cell_type": "code",
   "execution_count": 6,
   "metadata": {
    "collapsed": true
   },
   "outputs": [],
   "source": [
    "account_0=web3.eth.accounts[0]\n",
    "account_1=web3.eth.accounts[1]\n",
    "account_2=web3.eth.accounts[2]\n",
    "account_3=web3.eth.accounts[3]\n",
    "account_4=web3.eth.accounts[4]\n",
    "account_5=web3.eth.accounts[5]\n",
    "account_6=web3.eth.accounts[6]\n",
    "account_7=web3.eth.accounts[7]\n",
    "account_8=web3.eth.accounts[8]\n",
    "account_9=web3.eth.accounts[9]\n",
    "account_10=web3.eth.accounts[10]\n",
    "account_11=web3.eth.accounts[11]\n",
    "account_12=web3.eth.accounts[12]\n",
    "account_13=web3.eth.accounts[13]\n",
    "account_14=web3.eth.accounts[14]\n",
    "account_15=web3.eth.accounts[15]\n",
    "account_16=web3.eth.accounts[16]\n",
    "account_17=web3.eth.accounts[17]\n",
    "account_18=web3.eth.accounts[18]\n",
    "account_19=web3.eth.accounts[19]\n",
    "account_20=web3.eth.accounts[20]\n",
    "account_21=web3.eth.accounts[21]\n",
    "account_22=web3.eth.accounts[22]"
   ]
  },
  {
   "cell_type": "code",
   "execution_count": 7,
   "metadata": {
    "scrolled": true
   },
   "outputs": [
    {
     "data": {
      "text/plain": [
       "'0xfb6cb4369891cf81c519e891cebd618a9e009398cc934bacc2758b024f9ed210'"
      ]
     },
     "execution_count": 7,
     "metadata": {},
     "output_type": "execute_result"
    }
   ],
   "source": [
    "#producer registation\n",
    "\n",
    "web3.personal.unlockAccount(coinbase, 'olirocks')\n",
    "web3.personal.unlockAccount(account_1, 'olirocks')\n",
    "web3.personal.unlockAccount(account_2, 'olirocks')\n",
    "web3.personal.unlockAccount(account_3, 'olirocks')\n",
    "web3.personal.unlockAccount(account_4, 'olirocks')\n",
    "web3.personal.unlockAccount(account_5, 'olirocks')\n",
    "web3.personal.unlockAccount(account_6, 'olirocks')\n",
    "web3.personal.unlockAccount(account_7, 'olirocks')\n",
    "web3.personal.unlockAccount(account_8, 'olirocks')\n",
    "web3.personal.unlockAccount(account_9, 'olirocks')\n",
    "web3.personal.unlockAccount(account_10, 'olirocks')\n",
    "web3.personal.unlockAccount(account_11, 'olirocks')\n",
    "web3.personal.unlockAccount(account_12, 'olirocks')\n",
    "web3.personal.unlockAccount(account_13, 'olirocks')\n",
    "web3.personal.unlockAccount(account_14, 'olirocks')\n",
    "web3.personal.unlockAccount(account_15, 'olirocks')\n",
    "web3.personal.unlockAccount(account_16, 'olirocks')\n",
    "web3.personal.unlockAccount(account_17, 'olirocks')\n",
    "web3.personal.unlockAccount(account_18, 'olirocks')\n",
    "web3.personal.unlockAccount(account_19, 'olirocks')\n",
    "\n",
    "\n",
    "\n",
    "Production_contract.transact({'from': coinbase}).setProducer('Tom', 'PV', 4000, 0, int(48.11e4), int(9.15e4), 400, 'Urban', '20-04-2017')\n",
    "Production_contract.transact({'from': account_1}).setProducer('Jim', 'Battery', 8000, 8000, int(48.22e4), int(9.25e4), 400, 'Rural', '21-04-2018')\n",
    "Production_contract.transact({'from': account_2}).setProducer('Markus', 'Wind', 25000, 0, int(48.33e4), int(9.35e4), 10000, 'Urban', '22-04-2016')\n",
    "Production_contract.transact({'from': account_3}).setProducer('Hassan', 'CHP', 20000, 0, int(48.44e4), int(9.45e4), 10000, 'Rural', '23-07-2015')\n",
    "Production_contract.transact({'from': account_4}).setProducer('Andre', 'Battery', 4500, 4500, int(48.55e4), int(9.55e4), 400, 'Urban', '24-04-2018')\n",
    "\n",
    "Production_contract.transact({'from': account_5}).setProducer('Andre', 'CHP', 7000, 0, int(48.66e4), int(9.65e4), 400, 'Rural', '25-10-2012')\n",
    "Production_contract.transact({'from': account_6}).setProducer('Hassan', 'PV', 8000, 0, int(48.77e4), int(9.35e4), 400, 'Urban', '26-04-2011')\n",
    "Production_contract.transact({'from': account_7}).setProducer('Markus', 'PV', 2500, 0, int(48.88e4), int(9.75e4), 400, 'Rural', '27-04-2016')\n",
    "Production_contract.transact({'from': account_8}).setProducer('Jim', 'Wind', 15000, 0, int(48.99e4), int(9.85e4), 400, 'Urban', '28-04-2010')\n",
    "Production_contract.transact({'from': account_9}).setProducer('Tom', 'Battery', 7800, 7800, int(48.50e4), int(9.95e4), 400, 'Rural', '29-04-2017')\n",
    "\n",
    "Production_contract.transact({'from': account_10}).setProducer('Markus', 'Wind', 4000, 0, int(48.61e4), int(9.31e4), 400, 'Urban', '19-09-2013')\n",
    "Production_contract.transact({'from': account_11}).setProducer('Hassan', 'PV', 3000, 0, int(48.70e4), int(9.32e4), 400, 'Rural', '18-04-2018')\n",
    "Production_contract.transact({'from': account_12}).setProducer('Andre', 'Battery', 6500, 6500, int(48.82e4), int(9.33e4), 400, 'Urban', '17-04-2011')\n",
    "Production_contract.transact({'from': account_13}).setProducer('Tom', 'Battery', 6000, 6000, int(48.93e4), int(9.34e4), 400, 'Rural', '16-10-2013')\n",
    "Production_contract.transact({'from': account_14}).setProducer('Jim', 'PV', 9000, 0, int(48.44e4), int(9.35e4), 400, 'Urban', '15-04-2010')\n",
    "\n",
    "Production_contract.transact({'from': account_15}).setProducer('Andre', 'Battery', 6000, 6000, int(48.55e4), int(9.36e4), 400, 'Rural', '14-04-2016')\n",
    "Production_contract.transact({'from': account_16}).setProducer('Markus', 'PV', 10000, 0, int(48.76e4), int(9.37e4), 400, 'Urban', '13-01-2013')\n",
    "Production_contract.transact({'from': account_17}).setProducer('Tom', 'PV', 12000, 0, int(48.27e4), int(9.38e4), 400, 'Rural', '12-04-2018')\n",
    "Production_contract.transact({'from': account_18}).setProducer('Jim', 'PV', 8500, 0, int(48.48e4), int(9.89e4), 400, 'Urban', '11-04-2018')\n",
    "Production_contract.transact({'from': account_19}).setProducer('Hassan', 'Battery', 4000, 4000, int(48.49e4), int(9.35e4), 400, 'Rural', '10-04-2018')\n"
   ]
  },
  {
   "cell_type": "code",
   "execution_count": 8,
   "metadata": {},
   "outputs": [
    {
     "data": {
      "text/plain": [
       "'0x479c7e1d3ec961d7bd603411ef387e4aad9c8dc6e1142db0707a9753d37031f2'"
      ]
     },
     "execution_count": 8,
     "metadata": {},
     "output_type": "execute_result"
    }
   ],
   "source": [
    "#consumer registration\n",
    "\n",
    "web3.personal.unlockAccount(coinbase, 'olirocks')\n",
    "web3.personal.unlockAccount(account_1, 'olirocks')\n",
    "web3.personal.unlockAccount(account_2, 'olirocks')\n",
    "web3.personal.unlockAccount(account_3, 'olirocks')\n",
    "web3.personal.unlockAccount(account_4, 'olirocks')\n",
    "web3.personal.unlockAccount(account_5, 'olirocks')\n",
    "web3.personal.unlockAccount(account_6, 'olirocks')\n",
    "web3.personal.unlockAccount(account_7, 'olirocks')\n",
    "web3.personal.unlockAccount(account_8, 'olirocks')\n",
    "web3.personal.unlockAccount(account_9, 'olirocks')\n",
    "web3.personal.unlockAccount(account_10, 'olirocks')\n",
    "web3.personal.unlockAccount(account_11, 'olirocks')\n",
    "web3.personal.unlockAccount(account_12, 'olirocks')\n",
    "web3.personal.unlockAccount(account_13, 'olirocks')\n",
    "web3.personal.unlockAccount(account_14, 'olirocks')\n",
    "web3.personal.unlockAccount(account_15, 'olirocks')\n",
    "web3.personal.unlockAccount(account_16, 'olirocks')\n",
    "web3.personal.unlockAccount(account_17, 'olirocks')\n",
    "web3.personal.unlockAccount(account_18, 'olirocks')\n",
    "web3.personal.unlockAccount(account_19, 'olirocks')\n",
    "\n",
    "\n",
    "Consumption_contract.transact({'from': coinbase}).setConsumer('Ritta', 'Standard Meter', 0, 12000, int(48.12e4), int(9.16e4), 400, 'Urban', '20-04-2012')\n",
    "Consumption_contract.transact({'from': account_1}).setConsumer('Lea', 'Battery', 10000, 10000, int(48.23e4), int(9.27e4), 400, 'Rural', '21-09-2010')\n",
    "Consumption_contract.transact({'from': account_2}).setConsumer('Maria', 'Standard Meter', 0, 10000, int(48.34e4), int(9.38e4), 400, 'Urban', '22-09-2011')\n",
    "Consumption_contract.transact({'from': account_3}).setConsumer('Alena', 'Controllable Load', 0, 8000, int(48.45e4), int(9.49e4), 400, 'Rural', '23-04-2016')\n",
    "Consumption_contract.transact({'from': account_4}).setConsumer('Birgit', 'Battery', 5000, 5000, int(48.55e4), int(9.65e4), 400, 'Urban', '24-04-2014')\n",
    "\n",
    "Consumption_contract.transact({'from': account_5}).setConsumer('Suzi', 'Standard Meter', 0, 8000, int(48.67e4), int(9.66e4), 400, 'Rural', '25-04-2018')\n",
    "Consumption_contract.transact({'from': account_6}).setConsumer('Judith', 'Battery', 6000, 6000, int(48.78e4), int(9.37e4), 400, 'Urban', '26-04-2012')\n",
    "Consumption_contract.transact({'from': account_7}).setConsumer('Monika', 'Controllable Load', 0, 9000, int(48.88e4), int(9.75e4), 400, 'Rural', '27-08-2012')\n",
    "Consumption_contract.transact({'from': account_8}).setConsumer('Yuana', 'Standard Meter', 0, 10000, int(48.99e4), int(9.85e4), 400, 'Urban', '28-04-2017')\n",
    "Consumption_contract.transact({'from': account_9}).setConsumer('Julia', 'Battery', 4500, 4500, int(48.50e4), int(9.91e4), 400, 'Rural', '29-04-2015')\n",
    "\n",
    "Consumption_contract.transact({'from': account_10}).setConsumer('Sonia', 'Controllable Load', 0, 7000, int(48.63e4), int(9.31e4), 400, 'Urban', '19-04-2016')\n",
    "Consumption_contract.transact({'from': account_11}).setConsumer('Tom', 'Standard Meter', 0, 8000, int(48.74e4), int(9.34e4), 400, 'Rural', '18-04-2014')\n",
    "Consumption_contract.transact({'from': account_12}).setConsumer('Hassan', 'Standard Meter', 0, 65000, int(48.65e4), int(9.33e4), 400, 'Urban', '17-04-2012')\n",
    "Consumption_contract.transact({'from': account_13}).setConsumer('Andre', 'Battery', 12000, 12000, int(48.96e4), int(9.44e4), 400, 'Rural', '16-04-2011')\n",
    "Consumption_contract.transact({'from': account_14}).setConsumer('Jim', 'Standard Meter', 0, 4000, int(48.47e4), int(9.55e4), 400, 'Urban', '15-04-2011')\n",
    "\n",
    "Consumption_contract.transact({'from': account_15}).setConsumer('Tom', 'Battery', 7500, 7500, int(48.58e4), int(9.66e4), 400, 'Rural', '14-04-2014')\n",
    "Consumption_contract.transact({'from': account_16}).setConsumer('Markus', 'Controllable Load', 0, 12000, int(48.89e4), int(9.37e4), 400, 'Urban', '13-09-2012')\n",
    "Consumption_contract.transact({'from': account_17}).setConsumer('Tom', 'Standard Meter', 0, 7000, int(48.35e4), int(9.38e4), 400, 'Rural', '12-04-2014')\n",
    "Consumption_contract.transact({'from': account_18}).setConsumer('Juiliano', 'Standard Meter', 0, 10000, int(48.44e4), int(9.49e4), 400, 'Urban', '11-03-2018')\n",
    "Consumption_contract.transact({'from': account_19}).setConsumer('Hassan', 'Battery', 3000, 3000, int(48.43e4), int(9.55e4), 400, 'Rural', '10-07-2010')"
   ]
  },
  {
   "cell_type": "code",
   "execution_count": null,
   "metadata": {
    "collapsed": true
   },
   "outputs": [],
   "source": [
    "# energy production\n",
    "run = 1\n",
    "while run == 1:\n",
    "    \n",
    "    web3.personal.unlockAccount(coinbase, 'olirocks')\n",
    "    web3.personal.unlockAccount(coinbase, 'olirocks')\n",
    "    \n",
    "    web3.personal.unlockAccount(account_1, 'olirocks')\n",
    "    web3.personal.unlockAccount(account_1, 'olirocks')\n",
    "    \n",
    "    web3.personal.unlockAccount(account_2, 'olirocks')\n",
    "    web3.personal.unlockAccount(account_2, 'olirocks')\n",
    "    \n",
    "    web3.personal.unlockAccount(account_3, 'olirocks')\n",
    "    web3.personal.unlockAccount(account_3, 'olirocks')\n",
    "    \n",
    "    web3.personal.unlockAccount(account_4, 'olirocks')\n",
    "    web3.personal.unlockAccount(account_4, 'olirocks')\n",
    "\n",
    "    web3.personal.unlockAccount(account_5, 'olirocks')\n",
    "    web3.personal.unlockAccount(account_5, 'olirocks')\n",
    "    \n",
    "    web3.personal.unlockAccount(account_6, 'olirocks')\n",
    "    web3.personal.unlockAccount(account_6, 'olirocks')\n",
    "    \n",
    "    web3.personal.unlockAccount(account_7, 'olirocks')\n",
    "    web3.personal.unlockAccount(account_7, 'olirocks')\n",
    "    \n",
    "    web3.personal.unlockAccount(account_8, 'olirocks')\n",
    "    web3.personal.unlockAccount(account_8, 'olirocks')\n",
    "\n",
    "    web3.personal.unlockAccount(account_9, 'olirocks')\n",
    "    web3.personal.unlockAccount(account_9, 'olirocks')\n",
    "    \n",
    "    web3.personal.unlockAccount(account_10, 'olirocks')\n",
    "    web3.personal.unlockAccount(account_10, 'olirocks')\n",
    "   \n",
    "    web3.personal.unlockAccount(account_11, 'olirocks')\n",
    "    web3.personal.unlockAccount(account_11, 'olirocks')\n",
    "    \n",
    "    web3.personal.unlockAccount(account_12, 'olirocks')\n",
    "    web3.personal.unlockAccount(account_12, 'olirocks')\n",
    "    \n",
    "    web3.personal.unlockAccount(account_13, 'olirocks')\n",
    "    web3.personal.unlockAccount(account_13, 'olirocks')\n",
    "   \n",
    "    web3.personal.unlockAccount(account_14, 'olirocks')\n",
    "    web3.personal.unlockAccount(account_14, 'olirocks')\n",
    "    \n",
    "    web3.personal.unlockAccount(account_15, 'olirocks')\n",
    "    web3.personal.unlockAccount(account_15, 'olirocks')\n",
    "    \n",
    "    web3.personal.unlockAccount(account_16, 'olirocks')\n",
    "    web3.personal.unlockAccount(account_16, 'olirocks')\n",
    "    \n",
    "    web3.personal.unlockAccount(account_17, 'olirocks')\n",
    "    web3.personal.unlockAccount(account_17, 'olirocks')\n",
    "    \n",
    "    web3.personal.unlockAccount(account_18, 'olirocks')\n",
    "    web3.personal.unlockAccount(account_18, 'olirocks')\n",
    "    \n",
    "    web3.personal.unlockAccount(account_19, 'olirocks')\n",
    "    web3.personal.unlockAccount(account_19, 'olirocks')\n",
    "    \n",
    "    # energy consumtion\n",
    "\n",
    "    Production_contract.transact({'from': coinbase}).setEnerProduction(102)\n",
    "    Consumption_contract.transact({'from': coinbase}).setEnerConsumption(202)\n",
    "    \n",
    "    Production_contract.transact({'from': account_1}).setEnerProduction(254)\n",
    "    Consumption_contract.transact({'from': account_1}).setEnerConsumption(354)\n",
    "    \n",
    "    Production_contract.transact({'from': account_2}).setEnerProduction(278)\n",
    "    Consumption_contract.transact({'from': account_2}).setEnerConsumption(178)\n",
    "    \n",
    "    Production_contract.transact({'from': account_3}).setEnerProduction(354)\n",
    "    Consumption_contract.transact({'from': account_3}).setEnerConsumption(264)\n",
    "    Production_contract.transact({'from': account_4}).setEnerProduction(143)\n",
    "    \n",
    "    Consumption_contract.transact({'from': account_4}).setEnerConsumption(243)\n",
    "    \n",
    "    Production_contract.transact({'from': account_5}).setEnerProduction(6287)\n",
    "    Consumption_contract.transact({'from': account_5}).setEnerConsumption(187)\n",
    "    Production_contract.transact({'from': account_6}).setEnerProduction(277)\n",
    "    \n",
    "    Consumption_contract.transact({'from': account_6}).setEnerConsumption(177)\n",
    "    Production_contract.transact({'from': account_7}).setEnerProduction(336)\n",
    "    \n",
    "    Consumption_contract.transact({'from': account_7}).setEnerConsumption(236)\n",
    "    \n",
    "    Production_contract.transact({'from': account_8}).setEnerProduction(245)\n",
    "    Consumption_contract.transact({'from': account_8}).setEnerConsumption(345)\n",
    "    Consumption_contract.transact({'from': account_9}).setEnerConsumption(284)\n",
    "    Production_contract.transact({'from': account_9}).setEnerProduction(354)\n",
    "\n",
    "    Production_contract.transact({'from': account_10}).setEnerProduction(224)\n",
    "    Consumption_contract.transact({'from': account_10}).setEnerConsumption(324)\n",
    "    Production_contract.transact({'from': account_11}).setEnerProduction(254)\n",
    "    \n",
    "    Consumption_contract.transact({'from': account_11}).setEnerConsumption(274)\n",
    "    Production_contract.transact({'from': account_12}).setEnerProduction(186)\n",
    "    \n",
    "    Consumption_contract.transact({'from': account_12}).setEnerConsumption(286)\n",
    "    Production_contract.transact({'from': account_13}).setEnerProduction(335)\n",
    "    \n",
    "    Consumption_contract.transact({'from': account_13}).setEnerConsumption(235)\n",
    "    Consumption_contract.transact({'from': account_14}).setEnerConsumption(225)\n",
    "    Production_contract.transact({'from': account_14}).setEnerProduction(245)\n",
    "\n",
    "    Production_contract.transact({'from': account_15}).setEnerProduction(338)\n",
    "    Consumption_contract.transact({'from': account_15}).setEnerConsumption(238)\n",
    "    Production_contract.transact({'from': account_16}).setEnerProduction(254)\n",
    "    \n",
    "    Consumption_contract.transact({'from': account_16}).setEnerConsumption(184)\n",
    "    Production_contract.transact({'from': account_17}).setEnerProduction(174)\n",
    "    \n",
    "    Consumption_contract.transact({'from': account_17}).setEnerConsumption(199)\n",
    "    Production_contract.transact({'from': account_18}).setEnerProduction(254)\n",
    "\n",
    "    Consumption_contract.transact({'from': account_18}).setEnerConsumption(314)\n",
    "    Consumption_contract.transact({'from': account_19}).setEnerConsumption(249)\n",
    "    Production_contract.transact({'from': account_19}).setEnerProduction(342)\n",
    "    \n",
    "    time.sleep(30)"
   ]
  },
  {
   "cell_type": "code",
   "execution_count": null,
   "metadata": {
    "collapsed": true
   },
   "outputs": [],
   "source": [
    "web3.fromWei(web3.eth.getBalance(web3.eth.accounts[19]), 'ether')"
   ]
  },
  {
   "cell_type": "code",
   "execution_count": null,
   "metadata": {
    "collapsed": true
   },
   "outputs": [],
   "source": [
    "web3.personal.unlockAccount(web3.eth.coinbase, 'olirocks')\n",
    "transferAmount = round((web3.eth.getBalance(web3.eth.coinbase) * 0.01))\n",
    "for i in range(1,22):\n",
    "    web3.personal.unlockAccount(web3.eth.coinbase, 'olirocks')\n",
    "    web3.eth.sendTransaction({'to': web3.eth.accounts[i], 'from': web3.eth.coinbase, 'value': transferAmount})"
   ]
  },
  {
   "cell_type": "code",
   "execution_count": null,
   "metadata": {
    "collapsed": true
   },
   "outputs": [],
   "source": [
    "account_19"
   ]
  },
  {
   "cell_type": "code",
   "execution_count": null,
   "metadata": {
    "collapsed": true
   },
   "outputs": [],
   "source": []
  }
 ],
 "metadata": {
  "kernelspec": {
   "display_name": "Python 3",
   "language": "python",
   "name": "python3"
  },
  "language_info": {
   "codemirror_mode": {
    "name": "ipython",
    "version": 3
   },
   "file_extension": ".py",
   "mimetype": "text/x-python",
   "name": "python",
   "nbconvert_exporter": "python",
   "pygments_lexer": "ipython3",
   "version": "3.6.2"
  }
 },
 "nbformat": 4,
 "nbformat_minor": 2
}
