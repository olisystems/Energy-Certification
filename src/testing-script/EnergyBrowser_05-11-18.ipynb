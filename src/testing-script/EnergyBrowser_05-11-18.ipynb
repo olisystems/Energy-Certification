{
 "cells": [
  {
   "cell_type": "code",
   "execution_count": 1,
   "metadata": {},
   "outputs": [],
   "source": [
    "# coding: utf-8\n",
    "\n",
    "import json\n",
    "import web3\n",
    "import math\n",
    "import random\n",
    "import time\n",
    "\n",
    "from web3 import Web3, IPCProvider, HTTPProvider, txpool"
   ]
  },
  {
   "cell_type": "markdown",
   "metadata": {},
   "source": [
    "Next step: Connect to Client, create 20 Accounts, define a coinbase (=default account)"
   ]
  },
  {
   "cell_type": "code",
   "execution_count": 2,
   "metadata": {},
   "outputs": [],
   "source": [
    "web3 = Web3(HTTPProvider(\"http://127.0.0.1:7545\", request_kwargs={'timeout': 600}))"
   ]
  },
  {
   "cell_type": "code",
   "execution_count": 3,
   "metadata": {},
   "outputs": [],
   "source": [
    "coinbase = web3.eth.coinbase\n",
    "web3.eth.defaultBlock = \"latest\"\n",
    "transaction = {'from': coinbase}\n",
    "gasPrice = 60"
   ]
  },
  {
   "cell_type": "markdown",
   "metadata": {},
   "source": [
    "Replace The Contract Adresses below to the actual addresses of the contracts on your particular chain! In order to get the contract addresses deploy either with TRUFFLE or REMIX!"
   ]
  },
  {
   "cell_type": "code",
   "execution_count": 4,
   "metadata": {},
   "outputs": [],
   "source": [
    "# defining energy production contract\n",
    "Production_address = web3.toChecksumAddress(0x4b3e3238ab6065f513de245e86f32d637dd966aa)\n",
    "Production_abi_str  = '[{\"constant\":false,\"inputs\":[{\"name\":\"_enerValue\",\"type\":\"uint32\"}],\"name\":\"setEnerProduction\",\"outputs\":[],\"payable\":false,\"stateMutability\":\"nonpayable\",\"type\":\"function\"},{\"constant\":false,\"inputs\":[{\"name\":\"_owner\",\"type\":\"string\"},{\"name\":\"_deviceType\",\"type\":\"string\"},{\"name\":\"_peakPowerPos\",\"type\":\"uint32\"},{\"name\":\"_peakPowerNeg\",\"type\":\"uint32\"},{\"name\":\"_latitude\",\"type\":\"uint32\"},{\"name\":\"_longitude\",\"type\":\"uint32\"},{\"name\":\"_voltageLevel\",\"type\":\"uint32\"},{\"name\":\"_location\",\"type\":\"string\"},{\"name\":\"_installDate\",\"type\":\"string\"}],\"name\":\"setProducer\",\"outputs\":[],\"payable\":false,\"stateMutability\":\"nonpayable\",\"type\":\"function\"},{\"inputs\":[],\"payable\":false,\"stateMutability\":\"nonpayable\",\"type\":\"constructor\"},{\"anonymous\":false,\"inputs\":[{\"indexed\":false,\"name\":\"pvAddr\",\"type\":\"address\"},{\"indexed\":false,\"name\":\"owner\",\"type\":\"string\"},{\"indexed\":false,\"name\":\"deviceType\",\"type\":\"string\"},{\"indexed\":false,\"name\":\"peakPowerPos\",\"type\":\"uint32\"},{\"indexed\":false,\"name\":\"peakPowerNeg\",\"type\":\"uint32\"},{\"indexed\":false,\"name\":\"latitude\",\"type\":\"uint32\"},{\"indexed\":false,\"name\":\"longitude\",\"type\":\"uint32\"},{\"indexed\":false,\"name\":\"voltageLevel\",\"type\":\"uint32\"},{\"indexed\":false,\"name\":\"location\",\"type\":\"string\"},{\"indexed\":false,\"name\":\"installDate\",\"type\":\"string\"}],\"name\":\"ProducerRegs\",\"type\":\"event\"},{\"anonymous\":false,\"inputs\":[{\"indexed\":false,\"name\":\"oliAddr\",\"type\":\"address\"},{\"indexed\":false,\"name\":\"eTime\",\"type\":\"uint256\"},{\"indexed\":false,\"name\":\"enerAmount\",\"type\":\"uint32\"}],\"name\":\"EnerProductionEvent\",\"type\":\"event\"},{\"anonymous\":false,\"inputs\":[{\"indexed\":false,\"name\":\"oliAddr\",\"type\":\"address\"},{\"indexed\":false,\"name\":\"eTime\",\"type\":\"uint256\"},{\"indexed\":false,\"name\":\"enerAmount\",\"type\":\"uint32\"},{\"indexed\":false,\"name\":\"txTime\",\"type\":\"uint256[]\"},{\"indexed\":false,\"name\":\"txValue\",\"type\":\"uint32[]\"},{\"indexed\":false,\"name\":\"blockNumber\",\"type\":\"uint256[]\"},{\"indexed\":false,\"name\":\"blockHash\",\"type\":\"bytes32[]\"},{\"indexed\":false,\"name\":\"txGasPrice\",\"type\":\"uint256[]\"}],\"name\":\"TestEvent\",\"type\":\"event\"},{\"anonymous\":false,\"inputs\":[{\"indexed\":false,\"name\":\"oliAddr\",\"type\":\"address\"},{\"indexed\":false,\"name\":\"eTime\",\"type\":\"uint256\"},{\"indexed\":false,\"name\":\"enerAmount\",\"type\":\"uint32\"},{\"indexed\":false,\"name\":\"blockNumber\",\"type\":\"uint256\"},{\"indexed\":false,\"name\":\"blockHash\",\"type\":\"bytes32\"},{\"indexed\":false,\"name\":\"txGasPrice\",\"type\":\"uint256\"}],\"name\":\"ProTransactionEvent\",\"type\":\"event\"},{\"constant\":true,\"inputs\":[],\"name\":\"countProducers\",\"outputs\":[{\"name\":\"\",\"type\":\"uint256\"}],\"payable\":false,\"stateMutability\":\"view\",\"type\":\"function\"},{\"constant\":true,\"inputs\":[{\"name\":\"addr\",\"type\":\"address\"}],\"name\":\"getDeviceTypeForCoin\",\"outputs\":[{\"name\":\"\",\"type\":\"string\"}],\"payable\":false,\"stateMutability\":\"view\",\"type\":\"function\"},{\"constant\":true,\"inputs\":[],\"name\":\"getEnerProduction\",\"outputs\":[{\"name\":\"\",\"type\":\"address\"},{\"name\":\"\",\"type\":\"uint256\"},{\"name\":\"\",\"type\":\"uint32\"}],\"payable\":false,\"stateMutability\":\"view\",\"type\":\"function\"},{\"constant\":true,\"inputs\":[{\"name\":\"addr\",\"type\":\"address\"}],\"name\":\"getEnerProductionForCoin\",\"outputs\":[{\"name\":\"\",\"type\":\"uint32[]\"}],\"payable\":false,\"stateMutability\":\"view\",\"type\":\"function\"},{\"constant\":true,\"inputs\":[{\"name\":\"addr\",\"type\":\"address\"}],\"name\":\"getLocationForCoin\",\"outputs\":[{\"name\":\"\",\"type\":\"string\"}],\"payable\":false,\"stateMutability\":\"view\",\"type\":\"function\"},{\"constant\":true,\"inputs\":[{\"name\":\"_proAccntAddr\",\"type\":\"address\"}],\"name\":\"getProAccntDetails\",\"outputs\":[{\"name\":\"\",\"type\":\"string\"},{\"name\":\"\",\"type\":\"string\"},{\"name\":\"\",\"type\":\"uint32\"},{\"name\":\"\",\"type\":\"string\"},{\"name\":\"\",\"type\":\"uint32\"},{\"name\":\"\",\"type\":\"uint32\"},{\"name\":\"\",\"type\":\"string\"}],\"payable\":false,\"stateMutability\":\"view\",\"type\":\"function\"},{\"constant\":true,\"inputs\":[],\"name\":\"getProAccntsList\",\"outputs\":[{\"name\":\"\",\"type\":\"address[]\"}],\"payable\":false,\"stateMutability\":\"view\",\"type\":\"function\"},{\"constant\":true,\"inputs\":[{\"name\":\"_proAccntAddr\",\"type\":\"address\"}],\"name\":\"getProBalance\",\"outputs\":[{\"name\":\"\",\"type\":\"uint256\"}],\"payable\":false,\"stateMutability\":\"view\",\"type\":\"function\"},{\"constant\":true,\"inputs\":[],\"name\":\"getProducer\",\"outputs\":[{\"name\":\"\",\"type\":\"address\"},{\"name\":\"\",\"type\":\"string\"},{\"name\":\"\",\"type\":\"string\"},{\"name\":\"\",\"type\":\"uint32\"},{\"name\":\"\",\"type\":\"uint32\"},{\"name\":\"\",\"type\":\"uint32\"},{\"name\":\"\",\"type\":\"uint32\"},{\"name\":\"\",\"type\":\"uint32\"},{\"name\":\"\",\"type\":\"string\"},{\"name\":\"\",\"type\":\"string\"}],\"payable\":false,\"stateMutability\":\"view\",\"type\":\"function\"},{\"constant\":true,\"inputs\":[{\"name\":\"_proAccntAddr\",\"type\":\"address\"}],\"name\":\"getProEnerProduction\",\"outputs\":[{\"name\":\"\",\"type\":\"address\"},{\"name\":\"\",\"type\":\"uint256[]\"},{\"name\":\"\",\"type\":\"uint32[]\"},{\"name\":\"\",\"type\":\"uint256[]\"},{\"name\":\"\",\"type\":\"bytes32[]\"},{\"name\":\"\",\"type\":\"uint256[]\"}],\"payable\":false,\"stateMutability\":\"view\",\"type\":\"function\"},{\"constant\":true,\"inputs\":[{\"name\":\"\",\"type\":\"uint256\"}],\"name\":\"proAccntList\",\"outputs\":[{\"name\":\"\",\"type\":\"address\"}],\"payable\":false,\"stateMutability\":\"view\",\"type\":\"function\"},{\"constant\":true,\"inputs\":[{\"name\":\"producerAddr\",\"type\":\"address\"}],\"name\":\"proAccntsArr\",\"outputs\":[{\"name\":\"\",\"type\":\"bool\"}],\"payable\":false,\"stateMutability\":\"view\",\"type\":\"function\"}]'\n",
    "Production_abi      = json.loads(Production_abi_str)\n",
    "Production_contract = web3.eth.contract(abi=Production_abi,address=Production_address)"
   ]
  },
  {
   "cell_type": "code",
   "execution_count": 5,
   "metadata": {},
   "outputs": [],
   "source": [
    "# defining energy consumption contract\n",
    "Consumption_address = web3.toChecksumAddress(0xc2222aa75d228e0d14bf374b7468538cf7704feb)\n",
    "Consumption_abi_str  = '[{\"constant\":false,\"inputs\":[{\"name\":\"_owner\",\"type\":\"string\"},{\"name\":\"_deviceType\",\"type\":\"string\"},{\"name\":\"_peakPowerPos\",\"type\":\"uint32\"},{\"name\":\"_peakPowerNeg\",\"type\":\"uint32\"},{\"name\":\"_latitude\",\"type\":\"uint32\"},{\"name\":\"_longitude\",\"type\":\"uint32\"},{\"name\":\"_voltageLevel\",\"type\":\"uint32\"},{\"name\":\"_location\",\"type\":\"string\"},{\"name\":\"_installDate\",\"type\":\"string\"}],\"name\":\"setConsumer\",\"outputs\":[],\"payable\":false,\"stateMutability\":\"nonpayable\",\"type\":\"function\"},{\"constant\":false,\"inputs\":[{\"name\":\"_enerValue\",\"type\":\"uint32\"}],\"name\":\"setEnerConsumption\",\"outputs\":[],\"payable\":false,\"stateMutability\":\"nonpayable\",\"type\":\"function\"},{\"inputs\":[],\"payable\":false,\"stateMutability\":\"nonpayable\",\"type\":\"constructor\"},{\"anonymous\":false,\"inputs\":[{\"indexed\":false,\"name\":\"pvAddr\",\"type\":\"address\"},{\"indexed\":false,\"name\":\"owner\",\"type\":\"string\"},{\"indexed\":false,\"name\":\"deviceType\",\"type\":\"string\"},{\"indexed\":false,\"name\":\"peakPowerPos\",\"type\":\"uint32\"},{\"indexed\":false,\"name\":\"peakPowerNeg\",\"type\":\"uint32\"},{\"indexed\":false,\"name\":\"latitude\",\"type\":\"uint32\"},{\"indexed\":false,\"name\":\"longitude\",\"type\":\"uint32\"},{\"indexed\":false,\"name\":\"voltageLevel\",\"type\":\"uint32\"},{\"indexed\":false,\"name\":\"location\",\"type\":\"string\"},{\"indexed\":false,\"name\":\"installDate\",\"type\":\"string\"}],\"name\":\"ConsumerRegs\",\"type\":\"event\"},{\"anonymous\":false,\"inputs\":[{\"indexed\":false,\"name\":\"oliAddr\",\"type\":\"address\"},{\"indexed\":false,\"name\":\"eTime\",\"type\":\"uint256\"},{\"indexed\":false,\"name\":\"enerAmount\",\"type\":\"uint32\"}],\"name\":\"EnerConsumptionEvent\",\"type\":\"event\"},{\"anonymous\":false,\"inputs\":[{\"indexed\":false,\"name\":\"oliAddr\",\"type\":\"address\"},{\"indexed\":false,\"name\":\"txTime\",\"type\":\"uint256[]\"},{\"indexed\":false,\"name\":\"txValue\",\"type\":\"uint32[]\"},{\"indexed\":false,\"name\":\"blockNumber\",\"type\":\"uint256[]\"},{\"indexed\":false,\"name\":\"blockHash\",\"type\":\"bytes32[]\"},{\"indexed\":false,\"name\":\"txGasPrice\",\"type\":\"uint256[]\"}],\"name\":\"TestEvent\",\"type\":\"event\"},{\"anonymous\":false,\"inputs\":[{\"indexed\":false,\"name\":\"oliAddr\",\"type\":\"address\"},{\"indexed\":false,\"name\":\"eTime\",\"type\":\"uint256\"},{\"indexed\":false,\"name\":\"enerAmount\",\"type\":\"uint32\"},{\"indexed\":false,\"name\":\"blockNumber\",\"type\":\"uint256\"},{\"indexed\":false,\"name\":\"blockHash\",\"type\":\"bytes32\"},{\"indexed\":false,\"name\":\"txGasPrice\",\"type\":\"uint256\"}],\"name\":\"ConsTransactionEvent\",\"type\":\"event\"},{\"constant\":true,\"inputs\":[{\"name\":\"\",\"type\":\"uint256\"}],\"name\":\"consAccntList\",\"outputs\":[{\"name\":\"\",\"type\":\"address\"}],\"payable\":false,\"stateMutability\":\"view\",\"type\":\"function\"},{\"constant\":true,\"inputs\":[{\"name\":\"consumerAddr\",\"type\":\"address\"}],\"name\":\"consAccntsArr\",\"outputs\":[{\"name\":\"\",\"type\":\"bool\"}],\"payable\":false,\"stateMutability\":\"view\",\"type\":\"function\"},{\"constant\":true,\"inputs\":[],\"name\":\"countConsumers\",\"outputs\":[{\"name\":\"\",\"type\":\"uint256\"}],\"payable\":false,\"stateMutability\":\"view\",\"type\":\"function\"},{\"constant\":true,\"inputs\":[{\"name\":\"_consAccntAddr\",\"type\":\"address\"}],\"name\":\"getConsAccntDetails\",\"outputs\":[{\"name\":\"\",\"type\":\"string\"},{\"name\":\"\",\"type\":\"string\"},{\"name\":\"\",\"type\":\"uint32\"},{\"name\":\"\",\"type\":\"string\"},{\"name\":\"\",\"type\":\"uint32\"},{\"name\":\"\",\"type\":\"uint32\"},{\"name\":\"\",\"type\":\"string\"}],\"payable\":false,\"stateMutability\":\"view\",\"type\":\"function\"},{\"constant\":true,\"inputs\":[],\"name\":\"getConsAccntsList\",\"outputs\":[{\"name\":\"\",\"type\":\"address[]\"}],\"payable\":false,\"stateMutability\":\"view\",\"type\":\"function\"},{\"constant\":true,\"inputs\":[{\"name\":\"_consAccntAddr\",\"type\":\"address\"}],\"name\":\"getConsBalance\",\"outputs\":[{\"name\":\"\",\"type\":\"uint256\"}],\"payable\":false,\"stateMutability\":\"view\",\"type\":\"function\"},{\"constant\":true,\"inputs\":[{\"name\":\"_consAccntAddr\",\"type\":\"address\"}],\"name\":\"getConsEnerConsumption\",\"outputs\":[{\"name\":\"\",\"type\":\"address\"},{\"name\":\"\",\"type\":\"uint256[]\"},{\"name\":\"\",\"type\":\"uint32[]\"},{\"name\":\"\",\"type\":\"uint256[]\"},{\"name\":\"\",\"type\":\"bytes32[]\"},{\"name\":\"\",\"type\":\"uint256[]\"}],\"payable\":false,\"stateMutability\":\"view\",\"type\":\"function\"},{\"constant\":true,\"inputs\":[],\"name\":\"getConsumer\",\"outputs\":[{\"name\":\"\",\"type\":\"address\"},{\"name\":\"\",\"type\":\"string\"},{\"name\":\"\",\"type\":\"string\"},{\"name\":\"\",\"type\":\"uint32\"},{\"name\":\"\",\"type\":\"uint32\"},{\"name\":\"\",\"type\":\"uint32\"},{\"name\":\"\",\"type\":\"uint32\"},{\"name\":\"\",\"type\":\"uint32\"},{\"name\":\"\",\"type\":\"string\"},{\"name\":\"\",\"type\":\"string\"}],\"payable\":false,\"stateMutability\":\"view\",\"type\":\"function\"},{\"constant\":true,\"inputs\":[],\"name\":\"getEnerConsumption\",\"outputs\":[{\"name\":\"\",\"type\":\"address\"},{\"name\":\"\",\"type\":\"uint256\"},{\"name\":\"\",\"type\":\"uint32\"}],\"payable\":false,\"stateMutability\":\"view\",\"type\":\"function\"}]'\n",
    "Consumption_abi      = json.loads(Consumption_abi_str)\n",
    "Consumption_contract = web3.eth.contract(abi=Consumption_abi,address=Consumption_address)"
   ]
  },
  {
   "cell_type": "code",
   "execution_count": 6,
   "metadata": {},
   "outputs": [],
   "source": [
    "account_0=web3.eth.accounts[0]\n",
    "account_1=web3.eth.accounts[1]\n",
    "account_2=web3.eth.accounts[2]\n",
    "account_3=web3.eth.accounts[3]\n",
    "account_4=web3.eth.accounts[4]\n",
    "account_5=web3.eth.accounts[5]\n",
    "account_6=web3.eth.accounts[6]\n",
    "account_7=web3.eth.accounts[7]\n",
    "account_8=web3.eth.accounts[8]\n",
    "account_9=web3.eth.accounts[9]\n",
    "\n",
    "#account_0=web3.eth.accounts[0]\n",
    "#account_1=web3.eth.accounts[2]\n",
    "#account_2=web3.eth.accounts[4]\n",
    "#account_3=web3.eth.accounts[5]\n",
    "#account_4=web3.eth.accounts[12]\n",
    "#account_5=web3.eth.accounts[14]\n",
    "#account_6=web3.eth.accounts[16]\n",
    "#account_7=web3.eth.accounts[17]\n",
    "#account_8=web3.eth.accounts[26]\n",
    "#account_9=web3.eth.accounts[35]"
   ]
  },
  {
   "cell_type": "code",
   "execution_count": 7,
   "metadata": {
    "scrolled": true
   },
   "outputs": [
    {
     "data": {
      "text/plain": [
       "HexBytes('0x2ad747ea4c7cff4c24fe0e769d2813912c95a9f9fd94e8918f7dfd48d9fd93e3')"
      ]
     },
     "execution_count": 7,
     "metadata": {},
     "output_type": "execute_result"
    }
   ],
   "source": [
    "#producer registation\n",
    "\n",
    "Production_contract.transact({'from': coinbase}).setProducer('Tom', 'PV', 4000, 0, int(48.61e4), int(9.31e4), 400, 'Urban', '20-04-2017')\n",
    "Production_contract.transact({'from': account_1}).setProducer('Jim', 'Battery', 8000, 8000, int(48.70e4), int(9.32e4), 400, 'Rural', '21-04-2018')\n",
    "Production_contract.transact({'from': account_2}).setProducer('Markus', 'Wind', 25000, 0, int(48.33e4), int(9.35e4), 10000, 'Urban', '22-04-2016')\n",
    "Production_contract.transact({'from': account_3}).setProducer('Hassan', 'CHP', 20000, 0, int(48.82e4), int(9.33e4), 10000, 'Rural', '23-07-2015')\n",
    "Production_contract.transact({'from': account_4}).setProducer('Andre', 'Battery', 4500, 4500, int(48.93e4), int(9.34e4), 400, 'Urban', '24-04-2018')\n",
    "\n",
    "Production_contract.transact({'from': account_5}).setProducer('Andre', 'CHP', 7000, 0, int(48.44e4), int(9.35e4), 400, 'Rural', '25-10-2012')\n",
    "Production_contract.transact({'from': account_6}).setProducer('Hassan', 'PV', 8000, 0, int(48.55e4), int(9.36e4), 400, 'Urban', '26-04-2011')\n",
    "Production_contract.transact({'from': account_7}).setProducer('Markus', 'PV', 2500, 0, int(48.27e4), int(9.38e4), 400, 'Rural', '27-04-2016')\n",
    "Production_contract.transact({'from': account_8}).setProducer('Jim', 'Wind', 15000, 0, int(48.48e4), int(9.89e4), 400, 'Urban', '28-04-2010')\n",
    "Production_contract.transact({'from': account_9}).setProducer('Tom', 'Battery', 7800, 7800, int(48.49e4), int(9.35e4), 400, 'Rural', '29-04-2017')\n"
   ]
  },
  {
   "cell_type": "code",
   "execution_count": 8,
   "metadata": {},
   "outputs": [
    {
     "data": {
      "text/plain": [
       "HexBytes('0x6f45317c15f922f9a4329badcc95fcc8a0656de425ea69ee96a8e4e38ec25a6e')"
      ]
     },
     "execution_count": 8,
     "metadata": {},
     "output_type": "execute_result"
    }
   ],
   "source": [
    "#consumer registration\n",
    "\n",
    "Consumption_contract.transact({'from': coinbase}).setConsumer('Ritta', 'Standard Meter', 0, 12000, int(48.12e4), int(9.16e4), 400, 'Urban', '20-04-2012')\n",
    "Consumption_contract.transact({'from': account_1}).setConsumer('Lea', 'Battery', 10000, 10000, int(48.74e4), int(9.34e4), 400, 'Rural', '21-09-2010')\n",
    "Consumption_contract.transact({'from': account_2}).setConsumer('Maria', 'Standard Meter', 0, 10000, int(48.65e4), int(9.33e4), 400, 'Urban', '22-09-2011')\n",
    "Consumption_contract.transact({'from': account_3}).setConsumer('Alena', 'Controllable Load', 0, 8000, int(48.96e4), int(9.44e4), 400, 'Rural', '23-04-2016')\n",
    "Consumption_contract.transact({'from': account_4}).setConsumer('Birgit', 'Battery', 5000, 5000, int(48.47e4), int(9.55e4), 400, 'Urban', '24-04-2014')\n",
    "\n",
    "Consumption_contract.transact({'from': account_5}).setConsumer('Suzi', 'Standard Meter', 0, 8000, int(48.58e4), int(9.66e4), 400, 'Rural', '25-04-2018')\n",
    "Consumption_contract.transact({'from': account_6}).setConsumer('Judith', 'Battery', 6000, 6000, int(48.89e4), int(9.37e4), 400, 'Urban', '26-04-2012')\n",
    "Consumption_contract.transact({'from': account_7}).setConsumer('Monika', 'Controllable Load', 0, 9000, int(48.35e4), int(9.38e4), 400, 'Rural', '27-08-2012')\n",
    "Consumption_contract.transact({'from': account_8}).setConsumer('Yuana', 'Standard Meter', 0, 10000, int(48.44e4), int(9.49e4), 400, 'Urban', '28-04-2017')\n",
    "Consumption_contract.transact({'from': account_9}).setConsumer('Julia', 'Battery', 4500, 4500, int(48.43e4), int(9.55e4), 400, 'Rural', '29-04-2015')\n"
   ]
  },
  {
   "cell_type": "code",
   "execution_count": null,
   "metadata": {},
   "outputs": [],
   "source": [
    "# energy production\n",
    "usedGasForTransaction = 400000\n",
    "run = 1\n",
    "while run == 1:\n",
    "    \n",
    "    try:\n",
    "        # energy consumtion\n",
    "        \n",
    "        Production_contract.transact({'from': coinbase,  'gas': usedGasForTransaction, 'gasPrice': gasPrice}).setEnerProduction(random.randint(200,4000))\n",
    "        Consumption_contract.transact({'from': coinbase,  'gas': usedGasForTransaction, 'gasPrice': gasPrice}).setEnerConsumption(random.randint(500,2000))\n",
    "        \n",
    "        Production_contract.transact({'from': account_1,  'gas': usedGasForTransaction, 'gasPrice': gasPrice}).setEnerProduction(random.randint(700,7000))\n",
    "        Consumption_contract.transact({'from': account_1,  'gas': usedGasForTransaction, 'gasPrice': gasPrice}).setEnerConsumption(random.randint(300,6000))\n",
    "        \n",
    "        Production_contract.transact({'from': account_2,  'gas': usedGasForTransaction, 'gasPrice': gasPrice}).setEnerProduction(random.randint(400,5000))\n",
    "        Consumption_contract.transact({'from': account_2,  'gas': usedGasForTransaction, 'gasPrice': gasPrice}).setEnerConsumption(random.randint(500,3000))\n",
    "        \n",
    "        Production_contract.transact({'from': account_3,  'gas': usedGasForTransaction, 'gasPrice': gasPrice}).setEnerProduction(random.randint(200,7000))\n",
    "        Consumption_contract.transact({'from': account_3,  'gas': usedGasForTransaction, 'gasPrice': gasPrice}).setEnerConsumption(random.randint(700,4000))\n",
    "        \n",
    "        Production_contract.transact({'from': account_4,  'gas': usedGasForTransaction, 'gasPrice': gasPrice}).setEnerProduction(random.randint(400,8000))\n",
    "        Consumption_contract.transact({'from': account_4,  'gas': usedGasForTransaction, 'gasPrice': gasPrice}).setEnerConsumption(random.randint(250,6000))\n",
    "        \n",
    "        Production_contract.transact({'from': account_5,  'gas': usedGasForTransaction, 'gasPrice': gasPrice}).setEnerProduction(random.randint(300,5000))\n",
    "        Consumption_contract.transact({'from': account_5,  'gas': usedGasForTransaction, 'gasPrice': gasPrice}).setEnerConsumption(random.randint(900,4000))\n",
    "        \n",
    "        Production_contract.transact({'from': account_6,  'gas': usedGasForTransaction, 'gasPrice': gasPrice}).setEnerProduction(random.randint(300,7000))\n",
    "        Consumption_contract.transact({'from': account_6,  'gas': usedGasForTransaction, 'gasPrice': gasPrice}).setEnerConsumption(random.randint(500,4000))\n",
    "        \n",
    "        Production_contract.transact({'from': account_7,  'gas': usedGasForTransaction, 'gasPrice': gasPrice}).setEnerProduction(random.randint(700,8000))\n",
    "        Consumption_contract.transact({'from': account_7,  'gas': usedGasForTransaction, 'gasPrice': gasPrice}).setEnerConsumption(random.randint(800,4000))\n",
    "        \n",
    "        Production_contract.transact({'from': account_8,  'gas': usedGasForTransaction, 'gasPrice': gasPrice}).setEnerProduction(random.randint(600,5000))\n",
    "        Consumption_contract.transact({'from': account_8,  'gas': usedGasForTransaction, 'gasPrice': gasPrice}).setEnerConsumption(random.randint(700,6000))\n",
    "\n",
    "        Consumption_contract.transact({'from': account_9,  'gas': usedGasForTransaction, 'gasPrice': gasPrice}).setEnerConsumption(random.randint(300,4000))\n",
    "        Production_contract.transact({'from': account_9,  'gas': usedGasForTransaction, 'gasPrice': gasPrice}).setEnerProduction(random.randint(400,7000))\n",
    "        \n",
    "    except Exception as e:\n",
    "        print (e)\n",
    "        \n",
    "    time.sleep(60)\n",
    "    "
   ]
  },
  {
   "cell_type": "code",
   "execution_count": null,
   "metadata": {},
   "outputs": [],
   "source": [
    "web3.fromWei(web3.eth.getBalance(web3.eth.accounts[9]), 'ether')"
   ]
  },
  {
   "cell_type": "code",
   "execution_count": null,
   "metadata": {},
   "outputs": [],
   "source": [
    "for i in range(0,9):\n",
    "    web3.personal.unlockAccount(web3.eth.accounts[9], 'G7fht1A')\n",
    "    web3.eth.sendTransaction({'from': web3.eth.accounts[9], 'to': web3.eth.accounts[i], 'gasPrice': gasPrice, 'value': 500000000})\n",
    "    time.sleep(1)"
   ]
  },
  {
   "cell_type": "code",
   "execution_count": null,
   "metadata": {},
   "outputs": [],
   "source": [
    "print('before')\n",
    "for i in range (0,10):\n",
    "    print(web3.eth.getBalance(web3.eth.accounts[i]))"
   ]
  },
  {
   "cell_type": "code",
   "execution_count": null,
   "metadata": {},
   "outputs": [],
   "source": [
    "print('after')\n",
    "for i in range (0,10):\n",
    "    print(web3.eth.getBalance(web3.eth.accounts[i]))"
   ]
  },
  {
   "cell_type": "code",
   "execution_count": null,
   "metadata": {},
   "outputs": [],
   "source": [
    "run = 1\n",
    "while run == 1:\n",
    "    \n",
    "    #web3.personal.unlockAccount(web3.eth.coinbase, 'G7fht1A')\n",
    "    transferAmount = round((web3.eth.getBalance(web3.eth.coinbase) * 0.01))\n",
    "    for i in range(0,10):\n",
    "        #web3.personal.unlockAccount(web3.eth.coinbase, 'G7fht1A')\n",
    "        web3.eth.sendTransaction({'to': web3.eth.accounts[i], 'from': web3.eth.coinbase, 'value': transferAmount})\n",
    "    \n",
    "    #time.sleep(3600)"
   ]
  },
  {
   "cell_type": "code",
   "execution_count": null,
   "metadata": {},
   "outputs": [],
   "source": [
    "transferAmount = round((web3.eth.getBalance(web3.eth.coinbase) * 0.01))\n",
    "for i in range(0,10):\n",
    "    #web3.personal.unlockAccount(web3.eth.coinbase, 'G7fht1A')\n",
    "    web3.eth.sendTransaction({'to': web3.eth.accounts[i], 'from': web3.eth.coinbase, 'value': transferAmount})"
   ]
  },
  {
   "cell_type": "code",
   "execution_count": null,
   "metadata": {},
   "outputs": [],
   "source": [
    "web3.eth.accounts"
   ]
  },
  {
   "cell_type": "code",
   "execution_count": null,
   "metadata": {},
   "outputs": [],
   "source": [
    "web3.personal.unlockAccount(web3.eth.accounts[0], 'G7fht1A')"
   ]
  },
  {
   "cell_type": "code",
   "execution_count": null,
   "metadata": {},
   "outputs": [],
   "source": [
    "web3.personal.unlockAccount(web3.eth.accounts[2], 'G7fht1A')"
   ]
  },
  {
   "cell_type": "code",
   "execution_count": null,
   "metadata": {},
   "outputs": [],
   "source": [
    "web3.personal.unlockAccount(web3.eth.accounts[1], 'G7fht1A')"
   ]
  },
  {
   "cell_type": "code",
   "execution_count": null,
   "metadata": {},
   "outputs": [],
   "source": []
  }
 ],
 "metadata": {
  "kernelspec": {
   "display_name": "Python 3",
   "language": "python",
   "name": "python3"
  },
  "language_info": {
   "codemirror_mode": {
    "name": "ipython",
    "version": 3
   },
   "file_extension": ".py",
   "mimetype": "text/x-python",
   "name": "python",
   "nbconvert_exporter": "python",
   "pygments_lexer": "ipython3",
   "version": "3.7.1"
  }
 },
 "nbformat": 4,
 "nbformat_minor": 2
}
